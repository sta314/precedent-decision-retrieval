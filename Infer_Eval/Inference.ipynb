{
 "cells": [
  {
   "cell_type": "code",
   "execution_count": 2,
   "metadata": {},
   "outputs": [
    {
     "name": "stderr",
     "output_type": "stream",
     "text": [
      "[nltk_data] Downloading package stopwords to\n",
      "[nltk_data]     C:\\Users\\Stamina\\AppData\\Roaming\\nltk_data...\n",
      "[nltk_data]   Package stopwords is already up-to-date!\n"
     ]
    }
   ],
   "source": [
    "import pandas as pd\n",
    "import gensim as gs\n",
    "import numpy as np\n",
    "import pickle\n",
    "import nltk\n",
    "nltk.download('stopwords')\n",
    "from nltk.corpus import stopwords\n",
    "import Stemmer\n",
    "from sentence_transformers import SentenceTransformer\n",
    "from tqdm.autonotebook import tqdm\n",
    "\n",
    "from gensim.corpora import Dictionary\n",
    "from gensim.models import TfidfModel, OkapiBM25Model\n",
    "from gensim.similarities import SparseMatrixSimilarity"
   ]
  },
  {
   "cell_type": "code",
   "execution_count": 3,
   "metadata": {},
   "outputs": [],
   "source": [
    "# Read dataset, original to be used in BERT - processed to be used in BM25\n",
    "\n",
    "original_df = pd.read_pickle(\"processed_dataset/dataset_qdpairs_raw.pkl\")\n",
    "processed_df = pd.read_pickle(\"processed_dataset/dataset_qdpairs_processed.pkl\")"
   ]
  },
  {
   "cell_type": "code",
   "execution_count": 4,
   "metadata": {},
   "outputs": [],
   "source": [
    "# Load up BM25 pickles\n",
    "\n",
    "corpus = pickle.load(open('gensim_bm25_pickles/corpus.pkl', 'rb'))\n",
    "dictionary = pickle.load(open('gensim_bm25_pickles/dictionary.pkl', 'rb'))\n",
    "bm25_model = pickle.load(open('gensim_bm25_pickles/bm25_model.pkl', 'rb'))\n",
    "bm25_corpus = pickle.load(open('gensim_bm25_pickles/bm25_corpus.pkl', 'rb'))\n",
    "bm25_index = pickle.load(open('gensim_bm25_pickles/bm25_index.pkl', 'rb'))"
   ]
  },
  {
   "cell_type": "code",
   "execution_count": 5,
   "metadata": {},
   "outputs": [],
   "source": [
    "# Load up BERTurk model and pre-computed document embeddings\n",
    "\n",
    "model = SentenceTransformer('emrecan/bert-base-turkish-cased-mean-nli-stsb-tr')\n",
    "model.max_seq_length = 512\n",
    "model.to('cuda')\n",
    "\n",
    "doc_embeddings = np.load('doc_embeddings_npy/doc_embeddings.npy')"
   ]
  },
  {
   "cell_type": "code",
   "execution_count": 6,
   "metadata": {},
   "outputs": [
    {
     "data": {
      "text/plain": [
       "<275817x282207 sparse matrix of type '<class 'numpy.float32'>'\n",
       "\twith 92437456 stored elements in Compressed Sparse Row format>"
      ]
     },
     "execution_count": 6,
     "metadata": {},
     "output_type": "execute_result"
    }
   ],
   "source": [
    "bm25_index.index"
   ]
  },
  {
   "cell_type": "code",
   "execution_count": 18,
   "metadata": {},
   "outputs": [],
   "source": [
    "from sklearn.preprocessing import MinMaxScaler\n",
    "# Define the function for preprocessing query for BM25\n",
    "\n",
    "def preprocess_str(str_to_process):\n",
    "    # This is a turkish stemmer, doesn't work perfect but it is consistent at least\n",
    "    stemmer = Stemmer.Stemmer('turkish')\n",
    "    \n",
    "    str_result = str_to_process\n",
    "    # Remove non-chars\n",
    "    str_result = gs.parsing.preprocessing.strip_multiple_whitespaces(gs.parsing.preprocessing.strip_numeric(gs.parsing.preprocessing.strip_non_alphanum(str_result)))\n",
    "    # Lowercase str\n",
    "    str_result = str_result.lower()\n",
    "    # Remove stopwords\n",
    "    str_result = gs.parsing.preprocessing.remove_stopwords(s=str_result, stopwords=stopwords.words(\"turkish\"))\n",
    "    # Split str\n",
    "    str_result = str_result.split()\n",
    "    # Stem words\n",
    "    str_result = stemmer.stemWords(str_result)\n",
    "\n",
    "    return str_result\n",
    "\n",
    "# Define functions for scoring each document given query\n",
    "\n",
    "def score(query, is_index = False):\n",
    "\n",
    "    query_bm25 = query if not is_index else processed_df.loc[query].query\n",
    "    query_bert = query if not is_index else original_df.loc[query].query\n",
    "\n",
    "    bm25_scores = score_BM25(query_bm25, not is_index)\n",
    "    bert_scores = score_BERT(query_bert)\n",
    "\n",
    "    bm25_scores = [score for score, _ in bm25_scores]\n",
    "    bert_scores = [score for score, _ in bert_scores]\n",
    "\n",
    "    # Normalize the scores using MinMaxScaler\n",
    "    scaler = MinMaxScaler()\n",
    "    bm25_scores_normalized = scaler.fit_transform(np.array(bm25_scores).reshape(-1, 1))\n",
    "    bert_scores_normalized = scaler.fit_transform(np.array(bert_scores).reshape(-1, 1))\n",
    "\n",
    "    # Average the normalized scores\n",
    "    average_scores = 1 * bm25_scores_normalized + 0 * bert_scores_normalized\n",
    "\n",
    "    # Combine the average scores with the document indices\n",
    "    final_scores = sorted(zip(average_scores.flatten(), processed_df.index), reverse=True)\n",
    "\n",
    "    return final_scores\n",
    "    \n",
    "\n",
    "def score_BM25(query, preprocess = True):\n",
    "    preprocessed_query = preprocess_str(query) if preprocess else query\n",
    "    tfidf_model = TfidfModel(dictionary=dictionary, smartirs='bnn')  # Enforce binary weighting of queries\n",
    "    tfidf_query = tfidf_model[dictionary.doc2bow(preprocessed_query)]\n",
    "    \n",
    "    similarities = bm25_index[tfidf_query]\n",
    "\n",
    "    scores = [(similarity, index) for similarity, index in zip(similarities, processed_df.index)]\n",
    "    # scores = sorted(zip(similarities, processed_df.index), reverse=True)\n",
    "\n",
    "    return scores\n",
    "\n",
    "def score_BERT(query):\n",
    "    query_embedding = model.encode(query, normalize_embeddings=True)\n",
    "\n",
    "    similarities = np.dot(doc_embeddings, query_embedding.T)\n",
    "\n",
    "    scores = [(similarity, index) for similarity, index in zip(similarities, original_df.index)]\n",
    "    # scores = sorted(zip(similarities, original_df.index), reverse=True)\n",
    "\n",
    "    return scores"
   ]
  }
 ],
 "metadata": {
  "kernelspec": {
   "display_name": "Python 3",
   "language": "python",
   "name": "python3"
  },
  "language_info": {
   "codemirror_mode": {
    "name": "ipython",
    "version": 3
   },
   "file_extension": ".py",
   "mimetype": "text/x-python",
   "name": "python",
   "nbconvert_exporter": "python",
   "pygments_lexer": "ipython3",
   "version": "3.10.0"
  }
 },
 "nbformat": 4,
 "nbformat_minor": 2
}

{
 "cells": [
  {
   "cell_type": "code",
   "execution_count": 1,
   "metadata": {},
   "outputs": [],
   "source": [
    "from gensim.corpora import Dictionary\n",
    "from gensim.models import TfidfModel, OkapiBM25Model\n",
    "from gensim.similarities import SparseMatrixSimilarity\n",
    "import numpy as np"
   ]
  },
  {
   "cell_type": "code",
   "execution_count": 1,
   "metadata": {},
   "outputs": [
    {
     "data": {
      "text/html": [
       "<div>\n",
       "<style scoped>\n",
       "    .dataframe tbody tr th:only-of-type {\n",
       "        vertical-align: middle;\n",
       "    }\n",
       "\n",
       "    .dataframe tbody tr th {\n",
       "        vertical-align: top;\n",
       "    }\n",
       "\n",
       "    .dataframe thead th {\n",
       "        text-align: right;\n",
       "    }\n",
       "</style>\n",
       "<table border=\"1\" class=\"dataframe\">\n",
       "  <thead>\n",
       "    <tr style=\"text-align: right;\">\n",
       "      <th></th>\n",
       "      <th>query</th>\n",
       "      <th>document</th>\n",
       "    </tr>\n",
       "    <tr>\n",
       "      <th>id</th>\n",
       "      <th></th>\n",
       "      <th></th>\n",
       "    </tr>\n",
       "  </thead>\n",
       "  <tbody>\n",
       "    <tr>\n",
       "      <th>386123400</th>\n",
       "      <td>[dav, davaç, vekil, dav, dilekçe, özet, dav, d...</td>\n",
       "      <td>[değerlendi̇rme, dav, dilekçes, sair, evrak, b...</td>\n",
       "    </tr>\n",
       "    <tr>\n",
       "      <th>386123500</th>\n",
       "      <td>[davaç, vekil, mahkeme, verdik, dav, dilekçe, ...</td>\n",
       "      <td>[delil, değerlendirilmes, dosya, kapsa, dikka,...</td>\n",
       "    </tr>\n",
       "    <tr>\n",
       "      <th>386129400</th>\n",
       "      <td>[davaç, şirket, yetkilis, dav, dilekçe, özet, ...</td>\n",
       "      <td>[dosya, kapsam, yer, ala, kayıt, belge, incele...</td>\n",
       "    </tr>\n",
       "    <tr>\n",
       "      <th>386132200</th>\n",
       "      <td>[davaç, vekil, dav, dilekçe, özet, keşidecis, ...</td>\n",
       "      <td>[deli̇l, gerekçe, davaç, vekil, tarihli, dilek...</td>\n",
       "    </tr>\n",
       "    <tr>\n",
       "      <th>386172900</th>\n",
       "      <td>[davaç, vekil, dav, dilekçe, özet, müvekkil, ı...</td>\n",
       "      <td>[deli̇l, gerekçe, atm, nin, esas, sayıl, dosya...</td>\n",
       "    </tr>\n",
       "  </tbody>\n",
       "</table>\n",
       "</div>"
      ],
      "text/plain": [
       "                                                       query  \\\n",
       "id                                                             \n",
       "386123400  [dav, davaç, vekil, dav, dilekçe, özet, dav, d...   \n",
       "386123500  [davaç, vekil, mahkeme, verdik, dav, dilekçe, ...   \n",
       "386129400  [davaç, şirket, yetkilis, dav, dilekçe, özet, ...   \n",
       "386132200  [davaç, vekil, dav, dilekçe, özet, keşidecis, ...   \n",
       "386172900  [davaç, vekil, dav, dilekçe, özet, müvekkil, ı...   \n",
       "\n",
       "                                                    document  \n",
       "id                                                            \n",
       "386123400  [değerlendi̇rme, dav, dilekçes, sair, evrak, b...  \n",
       "386123500  [delil, değerlendirilmes, dosya, kapsa, dikka,...  \n",
       "386129400  [dosya, kapsam, yer, ala, kayıt, belge, incele...  \n",
       "386132200  [deli̇l, gerekçe, davaç, vekil, tarihli, dilek...  \n",
       "386172900  [deli̇l, gerekçe, atm, nin, esas, sayıl, dosya...  "
      ]
     },
     "execution_count": 1,
     "metadata": {},
     "output_type": "execute_result"
    }
   ],
   "source": [
    "import pandas as pd\n",
    "\n",
    "df = pd.read_pickle(\"processed_dataset/dataset_qdpairs_processed.pkl\")\n",
    "df.head()"
   ]
  },
  {
   "cell_type": "code",
   "execution_count": 2,
   "metadata": {},
   "outputs": [
    {
     "name": "stdout",
     "output_type": "stream",
     "text": [
      "<class 'pandas.core.frame.DataFrame'>\n",
      "Index: 260000 entries, 386123400 to 749493800\n",
      "Data columns (total 2 columns):\n",
      " #   Column    Non-Null Count   Dtype \n",
      "---  ------    --------------   ----- \n",
      " 0   query     260000 non-null  object\n",
      " 1   document  260000 non-null  object\n",
      "dtypes: object(2)\n",
      "memory usage: 6.0+ MB\n"
     ]
    }
   ],
   "source": [
    "df.info()"
   ]
  },
  {
   "cell_type": "code",
   "execution_count": 23,
   "metadata": {},
   "outputs": [],
   "source": [
    "corpus = df['document'].to_list()\n",
    "dictionary = Dictionary(corpus)\n",
    "bm25_model = OkapiBM25Model(dictionary=dictionary)\n",
    "bm25_corpus = bm25_model[list(map(dictionary.doc2bow, corpus))]\n",
    "bm25_index = SparseMatrixSimilarity(bm25_corpus, num_docs=len(corpus), num_terms=len(dictionary), normalize_queries=False, normalize_documents=False)"
   ]
  },
  {
   "cell_type": "code",
   "execution_count": 34,
   "metadata": {},
   "outputs": [],
   "source": [
    "import os\n",
    "import pickle\n",
    "\n",
    "# Create the directory if it doesn't exist\n",
    "if not os.path.exists('gensim_bm25_pickles'):\n",
    "    os.makedirs('gensim_bm25_pickles')\n",
    "\n",
    "# Pickle the objects\n",
    "pickle.dump(corpus, open('gensim_bm25_pickles/corpus.pkl', 'wb'))\n",
    "pickle.dump(dictionary, open('gensim_bm25_pickles/dictionary.pkl', 'wb'))\n",
    "pickle.dump(bm25_model, open('gensim_bm25_pickles/bm25_model.pkl', 'wb'))\n",
    "pickle.dump(bm25_corpus, open('gensim_bm25_pickles/bm25_corpus.pkl', 'wb'))\n",
    "pickle.dump(bm25_index, open('gensim_bm25_pickles/bm25_index.pkl', 'wb'))"
   ]
  }
 ],
 "metadata": {
  "kernelspec": {
   "display_name": "Python 3",
   "language": "python",
   "name": "python3"
  },
  "language_info": {
   "codemirror_mode": {
    "name": "ipython",
    "version": 3
   },
   "file_extension": ".py",
   "mimetype": "text/x-python",
   "name": "python",
   "nbconvert_exporter": "python",
   "pygments_lexer": "ipython3",
   "version": "3.10.0"
  }
 },
 "nbformat": 4,
 "nbformat_minor": 2
}

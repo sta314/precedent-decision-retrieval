{
 "cells": [
  {
   "cell_type": "code",
   "execution_count": null,
   "metadata": {},
   "outputs": [],
   "source": [
    "import pandas as pd\n",
    "import glob\n",
    "import os\n",
    "# Get a list of all JSON files in the folder\n",
    "file_list = glob.glob('dataset_raw/*.txt')\n",
    "\n",
    "# Create an empty list to store the extracted data and ID\n",
    "data_list = []\n",
    "id_list = []\n",
    "\n",
    "# Iterate over each file\n",
    "for file in file_list:\n",
    "    with open(file, 'r') as f:\n",
    "        # Read the file content\n",
    "        content = f.read()\n",
    "        \n",
    "        # Find the start and end indices of the data\n",
    "        start_index = content.find('{\"data\":\"') + len('{\"data\":\"')\n",
    "        end_index = content.find('\",\"metadata\":{')\n",
    "        \n",
    "        # Extract the data\n",
    "        data = content[start_index:end_index]\n",
    "        \n",
    "        # Extract the ID from the filename\n",
    "        filename = os.path.basename(file)\n",
    "        id = os.path.splitext(filename)[0]\n",
    "        \n",
    "        # Append the data and ID to the respective lists\n",
    "        data_list.append(data)\n",
    "        id_list.append(id)\n",
    "\n",
    "# Create a dataframe with the extracted data and ID\n",
    "df = pd.DataFrame({'ID': id_list, 'Data': data_list})\n",
    "\n",
    "# Load each file as a dataframe and append it to the list\n",
    "dfs = []\n",
    "for file in file_list:\n",
    "    df = pd.read_json(file)\n",
    "    dfs.append(df)\n",
    "\n",
    "# Concatenate all the dataframes into a single dataframe\n",
    "combined_df = pd.concat(dfs, ignore_index=True)\n",
    "\n",
    "combined_df.to_csv('dataset_raw.csv', index=False)"
   ]
  }
 ],
 "metadata": {
  "kernelspec": {
   "display_name": "Python 3",
   "language": "python",
   "name": "python3"
  },
  "language_info": {
   "codemirror_mode": {
    "name": "ipython",
    "version": 3
   },
   "file_extension": ".py",
   "mimetype": "text/x-python",
   "name": "python",
   "nbconvert_exporter": "python",
   "pygments_lexer": "ipython3",
   "version": "3.10.0"
  }
 },
 "nbformat": 4,
 "nbformat_minor": 2
}

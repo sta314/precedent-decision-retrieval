{
 "cells": [
  {
   "cell_type": "code",
   "execution_count": 98,
   "metadata": {},
   "outputs": [],
   "source": [
    "import pandas as pd\n",
    "import re\n",
    "from bs4 import BeautifulSoup"
   ]
  },
  {
   "cell_type": "code",
   "execution_count": 79,
   "metadata": {},
   "outputs": [
    {
     "data": {
      "text/html": [
       "<div>\n",
       "<style scoped>\n",
       "    .dataframe tbody tr th:only-of-type {\n",
       "        vertical-align: middle;\n",
       "    }\n",
       "\n",
       "    .dataframe tbody tr th {\n",
       "        vertical-align: top;\n",
       "    }\n",
       "\n",
       "    .dataframe thead th {\n",
       "        text-align: right;\n",
       "    }\n",
       "</style>\n",
       "<table border=\"1\" class=\"dataframe\">\n",
       "  <thead>\n",
       "    <tr style=\"text-align: right;\">\n",
       "      <th></th>\n",
       "      <th>extracted_data</th>\n",
       "    </tr>\n",
       "    <tr>\n",
       "      <th>id</th>\n",
       "      <th></th>\n",
       "    </tr>\n",
       "  </thead>\n",
       "  <tbody>\n",
       "    <tr>\n",
       "      <th>386123400</th>\n",
       "      <td>&lt;html&gt;&lt;head&gt;&lt;meta http-equiv=\\\"Content-Type\\\" ...</td>\n",
       "    </tr>\n",
       "    <tr>\n",
       "      <th>386123500</th>\n",
       "      <td>&lt;html&gt;&lt;head&gt;&lt;meta http-equiv=\\\"Content-Type\\\" ...</td>\n",
       "    </tr>\n",
       "    <tr>\n",
       "      <th>386129400</th>\n",
       "      <td>&lt;html&gt;&lt;head&gt;&lt;meta http-equiv=\\\"Content-Type\\\" ...</td>\n",
       "    </tr>\n",
       "    <tr>\n",
       "      <th>386132200</th>\n",
       "      <td>&lt;html&gt;&lt;head&gt;&lt;meta http-equiv=\\\"Content-Type\\\" ...</td>\n",
       "    </tr>\n",
       "    <tr>\n",
       "      <th>386133100</th>\n",
       "      <td>&lt;html&gt;&lt;head&gt;&lt;meta http-equiv=\\\"Content-Type\\\" ...</td>\n",
       "    </tr>\n",
       "  </tbody>\n",
       "</table>\n",
       "</div>"
      ],
      "text/plain": [
       "                                              extracted_data\n",
       "id                                                          \n",
       "386123400  <html><head><meta http-equiv=\\\"Content-Type\\\" ...\n",
       "386123500  <html><head><meta http-equiv=\\\"Content-Type\\\" ...\n",
       "386129400  <html><head><meta http-equiv=\\\"Content-Type\\\" ...\n",
       "386132200  <html><head><meta http-equiv=\\\"Content-Type\\\" ...\n",
       "386133100  <html><head><meta http-equiv=\\\"Content-Type\\\" ..."
      ]
     },
     "execution_count": 79,
     "metadata": {},
     "output_type": "execute_result"
    }
   ],
   "source": [
    "# Load the dataset\n",
    "df = pd.read_pickle('dataset_raw.pkl')\n",
    "\n",
    "df.head()"
   ]
  },
  {
   "cell_type": "code",
   "execution_count": 80,
   "metadata": {},
   "outputs": [
    {
     "name": "stdout",
     "output_type": "stream",
     "text": [
      "<class 'pandas.core.frame.DataFrame'>\n",
      "Index: 446094 entries, 386123400 to 895772200\n",
      "Data columns (total 1 columns):\n",
      " #   Column          Non-Null Count   Dtype \n",
      "---  ------          --------------   ----- \n",
      " 0   extracted_data  446094 non-null  object\n",
      "dtypes: object(1)\n",
      "memory usage: 6.8+ MB\n"
     ]
    }
   ],
   "source": [
    "df.info()"
   ]
  },
  {
   "cell_type": "code",
   "execution_count": 81,
   "metadata": {},
   "outputs": [
    {
     "name": "stdout",
     "output_type": "stream",
     "text": [
      "128416\n"
     ]
    }
   ],
   "source": [
    "BAM_regex = r'B[ ]?[ÖO][ ]?L[ ]?G[ ]?E A[ ]?D[ ]?L[ ]?[İI][ ]?Y[ ]?E M[ ]?A[ ]?H[ ]?K[ ]?E[ ]?M[ ]?E[ ]?S[ ]?[Iİ]'\n",
    "\n",
    "count = df[df['extracted_data'].str.contains(BAM_regex)].shape[0]\n",
    "print(count)"
   ]
  },
  {
   "cell_type": "code",
   "execution_count": 82,
   "metadata": {},
   "outputs": [],
   "source": [
    "# Discarding \"Bölge Adliye Mahkemesi\" records, since they they differ in formating\n",
    "df = df[~df['extracted_data'].str.contains(BAM_regex)]"
   ]
  },
  {
   "cell_type": "code",
   "execution_count": 83,
   "metadata": {},
   "outputs": [
    {
     "name": "stdout",
     "output_type": "stream",
     "text": [
      "<class 'pandas.core.frame.DataFrame'>\n",
      "Index: 317678 entries, 386123400 to 895772200\n",
      "Data columns (total 1 columns):\n",
      " #   Column          Non-Null Count   Dtype \n",
      "---  ------          --------------   ----- \n",
      " 0   extracted_data  317678 non-null  object\n",
      "dtypes: object(1)\n",
      "memory usage: 4.8+ MB\n"
     ]
    }
   ],
   "source": [
    "df.info()"
   ]
  },
  {
   "cell_type": "code",
   "execution_count": 84,
   "metadata": {},
   "outputs": [
    {
     "name": "stderr",
     "output_type": "stream",
     "text": [
      "C:\\Users\\Stamina\\AppData\\Local\\Temp\\ipykernel_21944\\1737465957.py:3: UserWarning: This pattern is interpreted as a regular expression, and has match groups. To actually get the groups, use str.extract.\n",
      "  count = df[df['extracted_data'].str.contains(query_regex)].shape[0]\n"
     ]
    },
    {
     "name": "stdout",
     "output_type": "stream",
     "text": [
      "275817\n"
     ]
    }
   ],
   "source": [
    "query_regex = r'<br>([^<]*dava dilekçe[^<]*)<br>(.*)'\n",
    "\n",
    "count = df[df['extracted_data'].str.contains(query_regex)].shape[0]\n",
    "print(count)"
   ]
  },
  {
   "cell_type": "code",
   "execution_count": 85,
   "metadata": {},
   "outputs": [
    {
     "name": "stderr",
     "output_type": "stream",
     "text": [
      "C:\\Users\\Stamina\\AppData\\Local\\Temp\\ipykernel_21944\\3536442561.py:2: UserWarning: This pattern is interpreted as a regular expression, and has match groups. To actually get the groups, use str.extract.\n",
      "  df = df[df['extracted_data'].str.contains(query_regex)]\n"
     ]
    }
   ],
   "source": [
    "# Discarding rows that dont have our desired query format\n",
    "df = df[df['extracted_data'].str.contains(query_regex)]"
   ]
  },
  {
   "cell_type": "code",
   "execution_count": 91,
   "metadata": {},
   "outputs": [
    {
     "data": {
      "text/html": [
       "<div>\n",
       "<style scoped>\n",
       "    .dataframe tbody tr th:only-of-type {\n",
       "        vertical-align: middle;\n",
       "    }\n",
       "\n",
       "    .dataframe tbody tr th {\n",
       "        vertical-align: top;\n",
       "    }\n",
       "\n",
       "    .dataframe thead th {\n",
       "        text-align: right;\n",
       "    }\n",
       "</style>\n",
       "<table border=\"1\" class=\"dataframe\">\n",
       "  <thead>\n",
       "    <tr style=\"text-align: right;\">\n",
       "      <th></th>\n",
       "      <th>query</th>\n",
       "      <th>document</th>\n",
       "    </tr>\n",
       "    <tr>\n",
       "      <th>id</th>\n",
       "      <th></th>\n",
       "      <th></th>\n",
       "    </tr>\n",
       "  </thead>\n",
       "  <tbody>\n",
       "    <tr>\n",
       "      <th>386123400</th>\n",
       "      <td>DAVA: Davacı vekili dava dilekçesinde özetle; ...</td>\n",
       "      <td>DEĞERLENDİRME:Dava dilekçesi ve sair tüm evrak...</td>\n",
       "    </tr>\n",
       "    <tr>\n",
       "      <th>386123500</th>\n",
       "      <td>Davacı vekilinin mahkememize verdiği dava dile...</td>\n",
       "      <td>Delillerin Değerlendirilmesi :&lt;br&gt;Tüm dosya ka...</td>\n",
       "    </tr>\n",
       "    <tr>\n",
       "      <th>386129400</th>\n",
       "      <td>Davacı şirket yetkilisi dava dilekçesinde özet...</td>\n",
       "      <td>Dosya kapsamında yer alan kayıt ve belgeler in...</td>\n",
       "    </tr>\n",
       "    <tr>\n",
       "      <th>386132200</th>\n",
       "      <td>Davacı vekili dava dilekçesinde özetle; Keşide...</td>\n",
       "      <td>DELİLLER VE GEREKÇE/&lt;br&gt;Davacı vekilinin 19/01...</td>\n",
       "    </tr>\n",
       "    <tr>\n",
       "      <th>386172900</th>\n",
       "      <td>Davacı vekili dava dilekçesinde özetle; müvekk...</td>\n",
       "      <td>DELİLLER VE GEREKÇE / &lt;br&gt;...  ATM'nin ... Esa...</td>\n",
       "    </tr>\n",
       "  </tbody>\n",
       "</table>\n",
       "</div>"
      ],
      "text/plain": [
       "                                                       query  \\\n",
       "id                                                             \n",
       "386123400  DAVA: Davacı vekili dava dilekçesinde özetle; ...   \n",
       "386123500  Davacı vekilinin mahkememize verdiği dava dile...   \n",
       "386129400  Davacı şirket yetkilisi dava dilekçesinde özet...   \n",
       "386132200  Davacı vekili dava dilekçesinde özetle; Keşide...   \n",
       "386172900  Davacı vekili dava dilekçesinde özetle; müvekk...   \n",
       "\n",
       "                                                    document  \n",
       "id                                                            \n",
       "386123400  DEĞERLENDİRME:Dava dilekçesi ve sair tüm evrak...  \n",
       "386123500  Delillerin Değerlendirilmesi :<br>Tüm dosya ka...  \n",
       "386129400  Dosya kapsamında yer alan kayıt ve belgeler in...  \n",
       "386132200  DELİLLER VE GEREKÇE/<br>Davacı vekilinin 19/01...  \n",
       "386172900  DELİLLER VE GEREKÇE / <br>...  ATM'nin ... Esa...  "
      ]
     },
     "execution_count": 91,
     "metadata": {},
     "output_type": "execute_result"
    }
   ],
   "source": [
    "# Extract the query and document pairs\n",
    "query_doc_df = df['extracted_data'].str.extract(query_regex)\n",
    "query_doc_df.columns = ['query', 'document']\n",
    "\n",
    "query_doc_df.head()"
   ]
  },
  {
   "cell_type": "code",
   "execution_count": 92,
   "metadata": {},
   "outputs": [
    {
     "name": "stdout",
     "output_type": "stream",
     "text": [
      "<class 'pandas.core.frame.DataFrame'>\n",
      "Index: 275817 entries, 386123400 to 895772200\n",
      "Data columns (total 2 columns):\n",
      " #   Column    Non-Null Count   Dtype \n",
      "---  ------    --------------   ----- \n",
      " 0   query     275817 non-null  object\n",
      " 1   document  275817 non-null  object\n",
      "dtypes: object(2)\n",
      "memory usage: 6.3+ MB\n"
     ]
    }
   ],
   "source": [
    "query_doc_df.info()"
   ]
  },
  {
   "cell_type": "code",
   "execution_count": 112,
   "metadata": {},
   "outputs": [
    {
     "name": "stderr",
     "output_type": "stream",
     "text": [
      "C:\\Users\\Stamina\\AppData\\Local\\Temp\\ipykernel_21944\\2830717337.py:3: MarkupResemblesLocatorWarning: The input looks more like a filename than markup. You may want to open this file and pass the filehandle into Beautiful Soup.\n",
      "  query_doc_df = query_doc_df.map(lambda s: BeautifulSoup(s).text)\n"
     ]
    }
   ],
   "source": [
    "# Remove html tags from the data\n",
    "\n",
    "query_doc_df = query_doc_df.map(lambda s: BeautifulSoup(s).text)\n",
    "# query_doc_df = query_doc_df.map(lambda x: re.sub('<.*?>', '', str(x))) # an alternative, might be less robust"
   ]
  },
  {
   "cell_type": "code",
   "execution_count": 113,
   "metadata": {},
   "outputs": [
    {
     "data": {
      "text/html": [
       "<div>\n",
       "<style scoped>\n",
       "    .dataframe tbody tr th:only-of-type {\n",
       "        vertical-align: middle;\n",
       "    }\n",
       "\n",
       "    .dataframe tbody tr th {\n",
       "        vertical-align: top;\n",
       "    }\n",
       "\n",
       "    .dataframe thead th {\n",
       "        text-align: right;\n",
       "    }\n",
       "</style>\n",
       "<table border=\"1\" class=\"dataframe\">\n",
       "  <thead>\n",
       "    <tr style=\"text-align: right;\">\n",
       "      <th></th>\n",
       "      <th>query</th>\n",
       "      <th>document</th>\n",
       "    </tr>\n",
       "    <tr>\n",
       "      <th>id</th>\n",
       "      <th></th>\n",
       "      <th></th>\n",
       "    </tr>\n",
       "  </thead>\n",
       "  <tbody>\n",
       "    <tr>\n",
       "      <th>386123400</th>\n",
       "      <td>DAVA: Davacı vekili dava dilekçesinde özetle; ...</td>\n",
       "      <td>DEĞERLENDİRME:Dava dilekçesi ve sair tüm evrak...</td>\n",
       "    </tr>\n",
       "    <tr>\n",
       "      <th>386123500</th>\n",
       "      <td>Davacı vekilinin mahkememize verdiği dava dile...</td>\n",
       "      <td>Delillerin Değerlendirilmesi :Tüm dosya kapsam...</td>\n",
       "    </tr>\n",
       "    <tr>\n",
       "      <th>386129400</th>\n",
       "      <td>Davacı şirket yetkilisi dava dilekçesinde özet...</td>\n",
       "      <td>Dosya kapsamında yer alan kayıt ve belgeler in...</td>\n",
       "    </tr>\n",
       "    <tr>\n",
       "      <th>386132200</th>\n",
       "      <td>Davacı vekili dava dilekçesinde özetle; Keşide...</td>\n",
       "      <td>DELİLLER VE GEREKÇE/Davacı vekilinin 19/01/201...</td>\n",
       "    </tr>\n",
       "    <tr>\n",
       "      <th>386172900</th>\n",
       "      <td>Davacı vekili dava dilekçesinde özetle; müvekk...</td>\n",
       "      <td>DELİLLER VE GEREKÇE / ...  ATM'nin ... Esas sa...</td>\n",
       "    </tr>\n",
       "  </tbody>\n",
       "</table>\n",
       "</div>"
      ],
      "text/plain": [
       "                                                       query  \\\n",
       "id                                                             \n",
       "386123400  DAVA: Davacı vekili dava dilekçesinde özetle; ...   \n",
       "386123500  Davacı vekilinin mahkememize verdiği dava dile...   \n",
       "386129400  Davacı şirket yetkilisi dava dilekçesinde özet...   \n",
       "386132200  Davacı vekili dava dilekçesinde özetle; Keşide...   \n",
       "386172900  Davacı vekili dava dilekçesinde özetle; müvekk...   \n",
       "\n",
       "                                                    document  \n",
       "id                                                            \n",
       "386123400  DEĞERLENDİRME:Dava dilekçesi ve sair tüm evrak...  \n",
       "386123500  Delillerin Değerlendirilmesi :Tüm dosya kapsam...  \n",
       "386129400  Dosya kapsamında yer alan kayıt ve belgeler in...  \n",
       "386132200  DELİLLER VE GEREKÇE/Davacı vekilinin 19/01/201...  \n",
       "386172900  DELİLLER VE GEREKÇE / ...  ATM'nin ... Esas sa...  "
      ]
     },
     "execution_count": 113,
     "metadata": {},
     "output_type": "execute_result"
    }
   ],
   "source": [
    "# At this point, we've eliminated BAM judgments, extracted query-document pairs and removed the HTML tags. \n",
    "\n",
    "query_doc_df.head()"
   ]
  },
  {
   "cell_type": "code",
   "execution_count": 114,
   "metadata": {},
   "outputs": [],
   "source": [
    "# Let's save our dataset in this state into a pickle\n",
    "query_doc_df.to_pickle('dataset_qdpairs.pkl')"
   ]
  }
 ],
 "metadata": {
  "kernelspec": {
   "display_name": "Python 3",
   "language": "python",
   "name": "python3"
  },
  "language_info": {
   "codemirror_mode": {
    "name": "ipython",
    "version": 3
   },
   "file_extension": ".py",
   "mimetype": "text/x-python",
   "name": "python",
   "nbconvert_exporter": "python",
   "pygments_lexer": "ipython3",
   "version": "3.10.0"
  }
 },
 "nbformat": 4,
 "nbformat_minor": 2
}

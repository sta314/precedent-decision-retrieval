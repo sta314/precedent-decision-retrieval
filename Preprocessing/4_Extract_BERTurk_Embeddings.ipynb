{
 "cells": [
  {
   "cell_type": "code",
   "execution_count": 9,
   "metadata": {},
   "outputs": [],
   "source": [
    "from sentence_transformers import SentenceTransformer\n",
    "import pandas as pd\n",
    "import numpy as np\n",
    "import os\n",
    "from tqdm.autonotebook import tqdm\n",
    "tqdm.pandas(desc=\"progress-bar\")\n",
    "\n",
    "model = SentenceTransformer('emrecan/bert-base-turkish-cased-mean-nli-stsb-tr')"
   ]
  },
  {
   "cell_type": "code",
   "execution_count": 2,
   "metadata": {},
   "outputs": [],
   "source": [
    "model.max_seq_length = 512"
   ]
  },
  {
   "cell_type": "code",
   "execution_count": 3,
   "metadata": {},
   "outputs": [
    {
     "data": {
      "text/plain": [
       "SentenceTransformer(\n",
       "  (0): Transformer({'max_seq_length': 512, 'do_lower_case': False}) with Transformer model: BertModel \n",
       "  (1): Pooling({'word_embedding_dimension': 768, 'pooling_mode_cls_token': False, 'pooling_mode_mean_tokens': True, 'pooling_mode_max_tokens': False, 'pooling_mode_mean_sqrt_len_tokens': False})\n",
       ")"
      ]
     },
     "execution_count": 3,
     "metadata": {},
     "output_type": "execute_result"
    }
   ],
   "source": [
    "device = 'cuda'\n",
    "model.to(device)"
   ]
  },
  {
   "cell_type": "code",
   "execution_count": 4,
   "metadata": {},
   "outputs": [],
   "source": [
    "df = pd.read_pickle(\"Steps/dataset_qdpairs.pkl\")"
   ]
  },
  {
   "cell_type": "code",
   "execution_count": 5,
   "metadata": {},
   "outputs": [
    {
     "data": {
      "text/html": [
       "<div>\n",
       "<style scoped>\n",
       "    .dataframe tbody tr th:only-of-type {\n",
       "        vertical-align: middle;\n",
       "    }\n",
       "\n",
       "    .dataframe tbody tr th {\n",
       "        vertical-align: top;\n",
       "    }\n",
       "\n",
       "    .dataframe thead th {\n",
       "        text-align: right;\n",
       "    }\n",
       "</style>\n",
       "<table border=\"1\" class=\"dataframe\">\n",
       "  <thead>\n",
       "    <tr style=\"text-align: right;\">\n",
       "      <th></th>\n",
       "      <th>query</th>\n",
       "      <th>document</th>\n",
       "    </tr>\n",
       "    <tr>\n",
       "      <th>id</th>\n",
       "      <th></th>\n",
       "      <th></th>\n",
       "    </tr>\n",
       "  </thead>\n",
       "  <tbody>\n",
       "    <tr>\n",
       "      <th>386123400</th>\n",
       "      <td>DAVA: Davacı vekili dava dilekçesinde özetle; ...</td>\n",
       "      <td>DEĞERLENDİRME:Dava dilekçesi ve sair tüm evrak...</td>\n",
       "    </tr>\n",
       "    <tr>\n",
       "      <th>386123500</th>\n",
       "      <td>Davacı vekilinin mahkememize verdiği dava dile...</td>\n",
       "      <td>Delillerin Değerlendirilmesi :Tüm dosya kapsam...</td>\n",
       "    </tr>\n",
       "    <tr>\n",
       "      <th>386129400</th>\n",
       "      <td>Davacı şirket yetkilisi dava dilekçesinde özet...</td>\n",
       "      <td>Dosya kapsamında yer alan kayıt ve belgeler in...</td>\n",
       "    </tr>\n",
       "    <tr>\n",
       "      <th>386132200</th>\n",
       "      <td>Davacı vekili dava dilekçesinde özetle; Keşide...</td>\n",
       "      <td>DELİLLER VE GEREKÇE/Davacı vekilinin 19/01/201...</td>\n",
       "    </tr>\n",
       "    <tr>\n",
       "      <th>386172900</th>\n",
       "      <td>Davacı vekili dava dilekçesinde özetle; müvekk...</td>\n",
       "      <td>DELİLLER VE GEREKÇE / ...  ATM'nin ... Esas sa...</td>\n",
       "    </tr>\n",
       "  </tbody>\n",
       "</table>\n",
       "</div>"
      ],
      "text/plain": [
       "                                                       query  \\\n",
       "id                                                             \n",
       "386123400  DAVA: Davacı vekili dava dilekçesinde özetle; ...   \n",
       "386123500  Davacı vekilinin mahkememize verdiği dava dile...   \n",
       "386129400  Davacı şirket yetkilisi dava dilekçesinde özet...   \n",
       "386132200  Davacı vekili dava dilekçesinde özetle; Keşide...   \n",
       "386172900  Davacı vekili dava dilekçesinde özetle; müvekk...   \n",
       "\n",
       "                                                    document  \n",
       "id                                                            \n",
       "386123400  DEĞERLENDİRME:Dava dilekçesi ve sair tüm evrak...  \n",
       "386123500  Delillerin Değerlendirilmesi :Tüm dosya kapsam...  \n",
       "386129400  Dosya kapsamında yer alan kayıt ve belgeler in...  \n",
       "386132200  DELİLLER VE GEREKÇE/Davacı vekilinin 19/01/201...  \n",
       "386172900  DELİLLER VE GEREKÇE / ...  ATM'nin ... Esas sa...  "
      ]
     },
     "execution_count": 5,
     "metadata": {},
     "output_type": "execute_result"
    }
   ],
   "source": [
    "df.head()"
   ]
  },
  {
   "cell_type": "code",
   "execution_count": 6,
   "metadata": {},
   "outputs": [
    {
     "data": {
      "application/vnd.jupyter.widget-view+json": {
       "model_id": "51fe61795f34434fb6cda39340dce3ac",
       "version_major": 2,
       "version_minor": 0
      },
      "text/plain": [
       "Processing chunks:   0%|          | 0/27 [00:00<?, ?it/s]"
      ]
     },
     "metadata": {},
     "output_type": "display_data"
    },
    {
     "name": "stdout",
     "output_type": "stream",
     "text": [
      "Processed chunk 1/27. Saved embeddings to bert_doc_embedding_chunks/doc_embeddings_curchunk_0.npy\n",
      "Processed chunk 2/27. Saved embeddings to bert_doc_embedding_chunks/doc_embeddings_curchunk_1.npy\n",
      "Processed chunk 3/27. Saved embeddings to bert_doc_embedding_chunks/doc_embeddings_curchunk_2.npy\n",
      "Processed chunk 4/27. Saved embeddings to bert_doc_embedding_chunks/doc_embeddings_curchunk_3.npy\n",
      "Processed chunk 5/27. Saved embeddings to bert_doc_embedding_chunks/doc_embeddings_curchunk_4.npy\n",
      "Processed chunk 6/27. Saved embeddings to bert_doc_embedding_chunks/doc_embeddings_curchunk_5.npy\n",
      "Processed chunk 7/27. Saved embeddings to bert_doc_embedding_chunks/doc_embeddings_curchunk_6.npy\n",
      "Processed chunk 8/27. Saved embeddings to bert_doc_embedding_chunks/doc_embeddings_curchunk_7.npy\n",
      "Processed chunk 9/27. Saved embeddings to bert_doc_embedding_chunks/doc_embeddings_curchunk_8.npy\n",
      "Processed chunk 10/27. Saved embeddings to bert_doc_embedding_chunks/doc_embeddings_curchunk_9.npy\n",
      "Processed chunk 11/27. Saved embeddings to bert_doc_embedding_chunks/doc_embeddings_curchunk_10.npy\n",
      "Processed chunk 12/27. Saved embeddings to bert_doc_embedding_chunks/doc_embeddings_curchunk_11.npy\n",
      "Processed chunk 13/27. Saved embeddings to bert_doc_embedding_chunks/doc_embeddings_curchunk_12.npy\n",
      "Processed chunk 14/27. Saved embeddings to bert_doc_embedding_chunks/doc_embeddings_curchunk_13.npy\n",
      "Processed chunk 15/27. Saved embeddings to bert_doc_embedding_chunks/doc_embeddings_curchunk_14.npy\n",
      "Processed chunk 16/27. Saved embeddings to bert_doc_embedding_chunks/doc_embeddings_curchunk_15.npy\n",
      "Processed chunk 17/27. Saved embeddings to bert_doc_embedding_chunks/doc_embeddings_curchunk_16.npy\n",
      "Processed chunk 18/27. Saved embeddings to bert_doc_embedding_chunks/doc_embeddings_curchunk_17.npy\n",
      "Processed chunk 19/27. Saved embeddings to bert_doc_embedding_chunks/doc_embeddings_curchunk_18.npy\n",
      "Processed chunk 20/27. Saved embeddings to bert_doc_embedding_chunks/doc_embeddings_curchunk_19.npy\n",
      "Processed chunk 21/27. Saved embeddings to bert_doc_embedding_chunks/doc_embeddings_curchunk_20.npy\n",
      "Processed chunk 22/27. Saved embeddings to bert_doc_embedding_chunks/doc_embeddings_curchunk_21.npy\n",
      "Processed chunk 23/27. Saved embeddings to bert_doc_embedding_chunks/doc_embeddings_curchunk_22.npy\n",
      "Processed chunk 24/27. Saved embeddings to bert_doc_embedding_chunks/doc_embeddings_curchunk_23.npy\n",
      "Processed chunk 25/27. Saved embeddings to bert_doc_embedding_chunks/doc_embeddings_curchunk_24.npy\n",
      "Processed chunk 26/27. Saved embeddings to bert_doc_embedding_chunks/doc_embeddings_curchunk_25.npy\n",
      "Processed chunk 27/27. Saved embeddings to bert_doc_embedding_chunks/doc_embeddings_curchunk_26.npy\n"
     ]
    }
   ],
   "source": [
    "import os\n",
    "\n",
    "directory = \"bert_doc_embedding_chunks\"\n",
    "if not os.path.exists(directory):\n",
    "    os.makedirs(directory)\n",
    "\n",
    "chunk_size = 10240\n",
    "batch_size = 128\n",
    "num_chunks = len(df) // chunk_size + 1\n",
    "\n",
    "for chunk in tqdm(range(num_chunks), desc=\"Processing chunks\"):\n",
    "    start_idx = chunk * chunk_size\n",
    "    end_idx = min((chunk + 1) * chunk_size, len(df))\n",
    "    chunk_df = df[start_idx:end_idx]\n",
    "    \n",
    "    chunk_embeddings = model.encode(chunk_df.document.to_list(), batch_size=batch_size, normalize_embeddings=True)\n",
    "    \n",
    "    # Save embeddings to file\n",
    "    file_path = f\"bert_doc_embedding_chunks/doc_embeddings_curchunk_{chunk}.npy\"\n",
    "    np.save(file_path, chunk_embeddings)\n",
    "    \n",
    "    print(f\"Processed chunk {chunk+1}/{num_chunks}. Saved embeddings to {file_path}\")\n"
   ]
  },
  {
   "cell_type": "code",
   "execution_count": 10,
   "metadata": {},
   "outputs": [
    {
     "data": {
      "application/vnd.jupyter.widget-view+json": {
       "model_id": "f03dd33e19de42aa8bf41f1b51aaa57c",
       "version_major": 2,
       "version_minor": 0
      },
      "text/plain": [
       "Loading embeddings:   0%|          | 0/27 [00:00<?, ?it/s]"
      ]
     },
     "metadata": {},
     "output_type": "display_data"
    },
    {
     "name": "stdout",
     "output_type": "stream",
     "text": [
      "Merged and saved the embeddings successfully.\n"
     ]
    }
   ],
   "source": [
    "directory = \"bert_doc_embedding_chunks\"\n",
    "\n",
    "# Initialize an empty list to store the chunk embeddings\n",
    "chunk_embeddings_list = []\n",
    "\n",
    "# Iterate over the chunks and load the embeddings\n",
    "for chunk in tqdm(range(num_chunks), desc=\"Loading embeddings\"):\n",
    "    file_path = f\"bert_doc_embedding_chunks/doc_embeddings_curchunk_{chunk}.npy\"\n",
    "    chunk_embeddings = np.load(file_path)\n",
    "    chunk_embeddings_list.append(chunk_embeddings)\n",
    "\n",
    "# Concatenate the chunk embeddings into a single numpy array\n",
    "doc_embeddings = np.concatenate(chunk_embeddings_list)\n",
    "\n",
    "# Save the doc embeddings as doc_embeddings.npy\n",
    "np.save(\"doc_embeddings.npy\", doc_embeddings)\n",
    "\n",
    "print(\"Merged and saved the embeddings successfully.\")"
   ]
  }
 ],
 "metadata": {
  "kernelspec": {
   "display_name": "Python 3",
   "language": "python",
   "name": "python3"
  },
  "language_info": {
   "codemirror_mode": {
    "name": "ipython",
    "version": 3
   },
   "file_extension": ".py",
   "mimetype": "text/x-python",
   "name": "python",
   "nbconvert_exporter": "python",
   "pygments_lexer": "ipython3",
   "version": "3.10.0"
  }
 },
 "nbformat": 4,
 "nbformat_minor": 2
}

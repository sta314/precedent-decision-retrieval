{
 "cells": [
  {
   "cell_type": "code",
   "execution_count": 1,
   "metadata": {},
   "outputs": [],
   "source": [
    "import pandas as pd"
   ]
  },
  {
   "cell_type": "code",
   "execution_count": 2,
   "metadata": {},
   "outputs": [],
   "source": [
    "data_df = pd.read_csv(\"dataset_raw.csv\", index_col=0)"
   ]
  },
  {
   "cell_type": "code",
   "execution_count": 4,
   "metadata": {},
   "outputs": [
    {
     "data": {
      "text/html": [
       "<div>\n",
       "<style scoped>\n",
       "    .dataframe tbody tr th:only-of-type {\n",
       "        vertical-align: middle;\n",
       "    }\n",
       "\n",
       "    .dataframe tbody tr th {\n",
       "        vertical-align: top;\n",
       "    }\n",
       "\n",
       "    .dataframe thead th {\n",
       "        text-align: right;\n",
       "    }\n",
       "</style>\n",
       "<table border=\"1\" class=\"dataframe\">\n",
       "  <thead>\n",
       "    <tr style=\"text-align: right;\">\n",
       "      <th></th>\n",
       "      <th>extracted_data</th>\n",
       "    </tr>\n",
       "    <tr>\n",
       "      <th>id</th>\n",
       "      <th></th>\n",
       "    </tr>\n",
       "  </thead>\n",
       "  <tbody>\n",
       "    <tr>\n",
       "      <th>386123400</th>\n",
       "      <td>&lt;html&gt;&lt;head&gt;&lt;meta http-equiv=\\\"Content-Type\\\" ...</td>\n",
       "    </tr>\n",
       "    <tr>\n",
       "      <th>386123500</th>\n",
       "      <td>&lt;html&gt;&lt;head&gt;&lt;meta http-equiv=\\\"Content-Type\\\" ...</td>\n",
       "    </tr>\n",
       "    <tr>\n",
       "      <th>386129400</th>\n",
       "      <td>&lt;html&gt;&lt;head&gt;&lt;meta http-equiv=\\\"Content-Type\\\" ...</td>\n",
       "    </tr>\n",
       "    <tr>\n",
       "      <th>386132200</th>\n",
       "      <td>&lt;html&gt;&lt;head&gt;&lt;meta http-equiv=\\\"Content-Type\\\" ...</td>\n",
       "    </tr>\n",
       "    <tr>\n",
       "      <th>386133100</th>\n",
       "      <td>&lt;html&gt;&lt;head&gt;&lt;meta http-equiv=\\\"Content-Type\\\" ...</td>\n",
       "    </tr>\n",
       "  </tbody>\n",
       "</table>\n",
       "</div>"
      ],
      "text/plain": [
       "                                              extracted_data\n",
       "id                                                          \n",
       "386123400  <html><head><meta http-equiv=\\\"Content-Type\\\" ...\n",
       "386123500  <html><head><meta http-equiv=\\\"Content-Type\\\" ...\n",
       "386129400  <html><head><meta http-equiv=\\\"Content-Type\\\" ...\n",
       "386132200  <html><head><meta http-equiv=\\\"Content-Type\\\" ...\n",
       "386133100  <html><head><meta http-equiv=\\\"Content-Type\\\" ..."
      ]
     },
     "execution_count": 4,
     "metadata": {},
     "output_type": "execute_result"
    }
   ],
   "source": [
    "data_df.head()"
   ]
  },
  {
   "cell_type": "code",
   "execution_count": 5,
   "metadata": {},
   "outputs": [],
   "source": [
    "data_df.to_pickle(\"dataset_raw.pkl\")"
   ]
  }
 ],
 "metadata": {
  "kernelspec": {
   "display_name": "Python 3",
   "language": "python",
   "name": "python3"
  },
  "language_info": {
   "codemirror_mode": {
    "name": "ipython",
    "version": 3
   },
   "file_extension": ".py",
   "mimetype": "text/x-python",
   "name": "python",
   "nbconvert_exporter": "python",
   "pygments_lexer": "ipython3",
   "version": "3.10.0"
  }
 },
 "nbformat": 4,
 "nbformat_minor": 2
}

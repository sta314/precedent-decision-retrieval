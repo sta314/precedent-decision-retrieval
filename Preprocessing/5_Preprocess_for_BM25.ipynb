{
 "cells": [
  {
   "cell_type": "code",
   "execution_count": 1,
   "metadata": {},
   "outputs": [
    {
     "name": "stderr",
     "output_type": "stream",
     "text": [
      "C:\\Users\\Stamina\\AppData\\Local\\Temp\\ipykernel_2820\\2108125481.py:7: TqdmExperimentalWarning: Using `tqdm.autonotebook.tqdm` in notebook mode. Use `tqdm.tqdm` instead to force console mode (e.g. in jupyter console)\n",
      "  from tqdm.autonotebook import tqdm\n",
      "[nltk_data] Downloading package stopwords to\n",
      "[nltk_data]     C:\\Users\\Stamina\\AppData\\Roaming\\nltk_data...\n",
      "[nltk_data]   Package stopwords is already up-to-date!\n"
     ]
    }
   ],
   "source": [
    "import pandas as pd\n",
    "import gensim as gs\n",
    "import numpy as np\n",
    "import sklearn\n",
    "import rank_bm25\n",
    "import string\n",
    "from tqdm.autonotebook import tqdm\n",
    "tqdm.pandas(desc=\"progress-bar\")\n",
    "from rank_bm25 import BM25Okapi\n",
    "import nltk\n",
    "nltk.download('stopwords')\n",
    "from nltk.corpus import stopwords\n",
    "import Stemmer"
   ]
  },
  {
   "cell_type": "code",
   "execution_count": 2,
   "metadata": {},
   "outputs": [],
   "source": [
    "df = pd.read_pickle(\"dataset_qdpairs.pkl\")"
   ]
  },
  {
   "cell_type": "code",
   "execution_count": 3,
   "metadata": {},
   "outputs": [
    {
     "data": {
      "text/html": [
       "<div>\n",
       "<style scoped>\n",
       "    .dataframe tbody tr th:only-of-type {\n",
       "        vertical-align: middle;\n",
       "    }\n",
       "\n",
       "    .dataframe tbody tr th {\n",
       "        vertical-align: top;\n",
       "    }\n",
       "\n",
       "    .dataframe thead th {\n",
       "        text-align: right;\n",
       "    }\n",
       "</style>\n",
       "<table border=\"1\" class=\"dataframe\">\n",
       "  <thead>\n",
       "    <tr style=\"text-align: right;\">\n",
       "      <th></th>\n",
       "      <th>query</th>\n",
       "      <th>document</th>\n",
       "    </tr>\n",
       "    <tr>\n",
       "      <th>id</th>\n",
       "      <th></th>\n",
       "      <th></th>\n",
       "    </tr>\n",
       "  </thead>\n",
       "  <tbody>\n",
       "    <tr>\n",
       "      <th>386123400</th>\n",
       "      <td>DAVA: Davacı vekili dava dilekçesinde özetle; ...</td>\n",
       "      <td>DEĞERLENDİRME:Dava dilekçesi ve sair tüm evrak...</td>\n",
       "    </tr>\n",
       "    <tr>\n",
       "      <th>386123500</th>\n",
       "      <td>Davacı vekilinin mahkememize verdiği dava dile...</td>\n",
       "      <td>Delillerin Değerlendirilmesi :Tüm dosya kapsam...</td>\n",
       "    </tr>\n",
       "    <tr>\n",
       "      <th>386129400</th>\n",
       "      <td>Davacı şirket yetkilisi dava dilekçesinde özet...</td>\n",
       "      <td>Dosya kapsamında yer alan kayıt ve belgeler in...</td>\n",
       "    </tr>\n",
       "    <tr>\n",
       "      <th>386132200</th>\n",
       "      <td>Davacı vekili dava dilekçesinde özetle; Keşide...</td>\n",
       "      <td>DELİLLER VE GEREKÇE/Davacı vekilinin 19/01/201...</td>\n",
       "    </tr>\n",
       "    <tr>\n",
       "      <th>386172900</th>\n",
       "      <td>Davacı vekili dava dilekçesinde özetle; müvekk...</td>\n",
       "      <td>DELİLLER VE GEREKÇE / ...  ATM'nin ... Esas sa...</td>\n",
       "    </tr>\n",
       "  </tbody>\n",
       "</table>\n",
       "</div>"
      ],
      "text/plain": [
       "                                                       query  \\\n",
       "id                                                             \n",
       "386123400  DAVA: Davacı vekili dava dilekçesinde özetle; ...   \n",
       "386123500  Davacı vekilinin mahkememize verdiği dava dile...   \n",
       "386129400  Davacı şirket yetkilisi dava dilekçesinde özet...   \n",
       "386132200  Davacı vekili dava dilekçesinde özetle; Keşide...   \n",
       "386172900  Davacı vekili dava dilekçesinde özetle; müvekk...   \n",
       "\n",
       "                                                    document  \n",
       "id                                                            \n",
       "386123400  DEĞERLENDİRME:Dava dilekçesi ve sair tüm evrak...  \n",
       "386123500  Delillerin Değerlendirilmesi :Tüm dosya kapsam...  \n",
       "386129400  Dosya kapsamında yer alan kayıt ve belgeler in...  \n",
       "386132200  DELİLLER VE GEREKÇE/Davacı vekilinin 19/01/201...  \n",
       "386172900  DELİLLER VE GEREKÇE / ...  ATM'nin ... Esas sa...  "
      ]
     },
     "execution_count": 3,
     "metadata": {},
     "output_type": "execute_result"
    }
   ],
   "source": [
    "df.head()"
   ]
  },
  {
   "cell_type": "code",
   "execution_count": 4,
   "metadata": {},
   "outputs": [],
   "source": [
    "def preprocess_str(str_to_process):\n",
    "    # This is a turkish stemmer, doesn't work perfect but it is consistent at least\n",
    "    stemmer = Stemmer.Stemmer('turkish')\n",
    "    \n",
    "    str_result = str_to_process\n",
    "    # Remove non-chars\n",
    "    str_result = gs.parsing.preprocessing.strip_multiple_whitespaces(gs.parsing.preprocessing.strip_numeric(gs.parsing.preprocessing.strip_non_alphanum(str_result)))\n",
    "    # Lowercase str\n",
    "    str_result = str_result.lower()\n",
    "    # Remove stopwords\n",
    "    str_result = gs.parsing.preprocessing.remove_stopwords(s=str_result, stopwords=stopwords.words(\"turkish\"))\n",
    "    # Split str\n",
    "    str_result = str_result.split()\n",
    "    # Stem words\n",
    "    str_result = stemmer.stemWords(str_result)\n",
    "\n",
    "    return str_result\n",
    "\n",
    "def preprocess_df(df):\n",
    "    # This is a turkish stemmer, doesn't work perfect but it is consistent at least\n",
    "    stemmer = Stemmer.Stemmer('turkish')\n",
    "\n",
    "    # Remove non-chars\n",
    "    df = df.map(gs.parsing.preprocessing.strip_non_alphanum).map(\n",
    "                                                gs.parsing.preprocessing.strip_numeric).map(gs.parsing.preprocessing.strip_multiple_whitespaces)\n",
    "    # Lowercase str\n",
    "    df = df.map(lambda s: s.lower())\n",
    "    # Remove stopwords\n",
    "    df = df.map(lambda s: gs.parsing.preprocessing.remove_stopwords(s=s, stopwords=stopwords.words(\"turkish\")))\n",
    "    # Split str\n",
    "    df = df.map(lambda s: s.split())\n",
    "\n",
    "\n",
    "    # Stem words - it takes long\n",
    "    df = df.map(stemmer.stemWords)\n",
    "\n",
    "    return df"
   ]
  },
  {
   "cell_type": "code",
   "execution_count": 7,
   "metadata": {},
   "outputs": [
    {
     "name": "stdout",
     "output_type": "stream",
     "text": [
      "Chunk 0\n",
      "Chunk 1\n",
      "Chunk 2\n",
      "Chunk 3\n",
      "Chunk 4\n",
      "Chunk 5\n",
      "Chunk 6\n",
      "Chunk 7\n",
      "Chunk 8\n",
      "Chunk 9\n",
      "Chunk 10\n",
      "Chunk 11\n",
      "Chunk 12\n"
     ]
    }
   ],
   "source": [
    "import pickle\n",
    "\n",
    "chunk_size = 20000\n",
    "num_chunks = len(df) // chunk_size + 1 # should've been +1\n",
    "\n",
    "for i in range(num_chunks):\n",
    "    print(f\"Chunk {i}\")\n",
    "    start_idx = i * chunk_size\n",
    "    end_idx = (i + 1) * chunk_size\n",
    "    chunk = df.iloc[start_idx:end_idx]\n",
    "    preprocessed_chunk = preprocess_df(chunk)\n",
    "    preprocessed_chunk.to_pickle(f\"chunks/preprocessed_chunk_{i}.pkl\")\n",
    "    del preprocessed_chunk"
   ]
  },
  {
   "cell_type": "code",
   "execution_count": 4,
   "metadata": {},
   "outputs": [
    {
     "name": "stdout",
     "output_type": "stream",
     "text": [
      "Old/chunks\\preprocessed_chunk_0.pkl\n",
      "Old/chunks\\preprocessed_chunk_1.pkl\n",
      "Old/chunks\\preprocessed_chunk_2.pkl\n",
      "Old/chunks\\preprocessed_chunk_3.pkl\n",
      "Old/chunks\\preprocessed_chunk_4.pkl\n",
      "Old/chunks\\preprocessed_chunk_5.pkl\n",
      "Old/chunks\\preprocessed_chunk_6.pkl\n",
      "Old/chunks\\preprocessed_chunk_7.pkl\n",
      "Old/chunks\\preprocessed_chunk_8.pkl\n",
      "Old/chunks\\preprocessed_chunk_9.pkl\n",
      "Old/chunks\\preprocessed_chunk_10.pkl\n",
      "Old/chunks\\preprocessed_chunk_11.pkl\n",
      "Old/chunks\\preprocessed_chunk_12.pkl\n",
      "Old/chunks\\preprocessed_chunk_13.pkl\n"
     ]
    }
   ],
   "source": [
    "import pandas as pd\n",
    "import glob\n",
    "\n",
    "# Get a list of all the pickles\n",
    "pickle_files = glob.glob('chunks/preprocessed_chunk_*.pkl')\n",
    "sorted_pickle_files = sorted(pickle_files, key=lambda x: int(x.split('_')[-1].split('.')[0]))\n",
    "\n",
    "# Read each pickle and concatenate them into a single dataframe\n",
    "dfs = []\n",
    "for pickle_file in sorted_pickle_files:\n",
    "    print(pickle_file)\n",
    "    df_chunk = pd.read_pickle(pickle_file)\n",
    "    dfs.append(df_chunk)\n",
    "\n",
    "df_merged = pd.concat(dfs)\n",
    "\n",
    "# Write the merged dataframe back to a pickle file\n",
    "df_merged.to_pickle('processed_dataset/dataset_qdpairs_processed.pkl')"
   ]
  }
 ],
 "metadata": {
  "kernelspec": {
   "display_name": "Python 3",
   "language": "python",
   "name": "python3"
  },
  "language_info": {
   "codemirror_mode": {
    "name": "ipython",
    "version": 3
   },
   "file_extension": ".py",
   "mimetype": "text/x-python",
   "name": "python",
   "nbconvert_exporter": "python",
   "pygments_lexer": "ipython3",
   "version": "3.10.0"
  }
 },
 "nbformat": 4,
 "nbformat_minor": 2
}
